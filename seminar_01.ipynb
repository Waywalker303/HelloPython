{
  "metadata": {
    "language_info": {
      "codemirror_mode": {
        "name": "python",
        "version": 3
      },
      "file_extension": ".py",
      "mimetype": "text/x-python",
      "name": "python",
      "nbconvert_exporter": "python",
      "pygments_lexer": "ipython3",
      "version": "3.8"
    },
    "kernelspec": {
      "name": "python",
      "display_name": "Python (Pyodide)",
      "language": "python"
    }
  },
  "nbformat_minor": 4,
  "nbformat": 4,
  "cells": [
    {
      "cell_type": "markdown",
      "source": "# Основы языка Python для аналитиков\n## Семинар 1 Оформление ноутбука и закрепление функций и генераторов\n***задание 1  \nсоединить два словаря***",
      "metadata": {}
    },
    {
      "cell_type": "code",
      "source": "dict1 = {'one': 1, 'two' : 2, 'three' : 3}\ndict2 = {'four' : 4, 'five' : 5, 'six' : 6} ",
      "metadata": {
        "trusted": true
      },
      "execution_count": 26,
      "outputs": []
    },
    {
      "cell_type": "code",
      "source": "dict1.update(dict2)\ndict1",
      "metadata": {
        "trusted": true
      },
      "execution_count": 27,
      "outputs": [
        {
          "execution_count": 27,
          "output_type": "execute_result",
          "data": {
            "text/plain": "{'one': 1, 'two': 2, 'three': 3, 'four': 4, 'five': 5, 'six': 6}"
          },
          "metadata": {}
        }
      ]
    },
    {
      "cell_type": "markdown",
      "source": "***задание 1.1  \nсоединить через функцию***",
      "metadata": {}
    },
    {
      "cell_type": "code",
      "source": "def func(dict1, dict2):\n    dict1.update(dict2)\n    return(dict1)",
      "metadata": {
        "trusted": true
      },
      "execution_count": 28,
      "outputs": []
    },
    {
      "cell_type": "code",
      "source": "func(dict1, dict2)",
      "metadata": {
        "trusted": true
      },
      "execution_count": 29,
      "outputs": [
        {
          "execution_count": 29,
          "output_type": "execute_result",
          "data": {
            "text/plain": "{'one': 1, 'two': 2, 'three': 3, 'four': 4, 'five': 5, 'six': 6}"
          },
          "metadata": {}
        }
      ]
    },
    {
      "cell_type": "markdown",
      "source": "***задание 2  \nнапишите функцию, которая из двух списков делает один словарь, где элементы из первого списка - ключи, а элименты второго списка - значения\nиспользуйе аннотирование типов***",
      "metadata": {}
    },
    {
      "cell_type": "code",
      "source": "keys = ['one','two','three']\nvalues = [ 1, 2, 3 ]\nempty = {}",
      "metadata": {
        "trusted": true
      },
      "execution_count": 30,
      "outputs": []
    },
    {
      "cell_type": "markdown",
      "source": "***задание 2.1  \nиспользуя цикл for\nиспользуя dict comprehenslons***",
      "metadata": {}
    },
    {
      "cell_type": "code",
      "source": "for i in range(len(keys)):\n    empty[keys[i]] = values[i]\n\nempty",
      "metadata": {
        "trusted": true
      },
      "execution_count": 31,
      "outputs": [
        {
          "execution_count": 31,
          "output_type": "execute_result",
          "data": {
            "text/plain": "{'one': 1, 'two': 2, 'three': 3}"
          },
          "metadata": {}
        }
      ]
    },
    {
      "cell_type": "code",
      "source": "{keys[i]: values[i] for i,j in enumerate(keys)}",
      "metadata": {
        "trusted": true
      },
      "execution_count": 32,
      "outputs": [
        {
          "execution_count": 32,
          "output_type": "execute_result",
          "data": {
            "text/plain": "{'one': 1, 'two': 2, 'three': 3}"
          },
          "metadata": {}
        }
      ]
    },
    {
      "cell_type": "markdown",
      "source": "***задание 3  \nнапишите функцию с циклом for функция на вход прининимает: исходный словарь, ключи, которые нужно извлеч (аргумент по умолчанию) \nна выходе словарь с нужными ключами используйте аннотированние типов***",
      "metadata": {}
    },
    {
      "cell_type": "code",
      "source": "client_dict = {\n    \"name\": \"John\",\n    \"age\": 25,\n    \"salary\": 5000,\n    \"city\": \"moscow\"\n}",
      "metadata": {
        "trusted": true
      },
      "execution_count": 37,
      "outputs": []
    },
    {
      "cell_type": "code",
      "source": "def f(d: dict, k: list) -> dict:\n    answer = {}\n    for word in k:\n        answer.update({word: d[word]})\n    return answer    ",
      "metadata": {
        "trusted": true
      },
      "execution_count": 39,
      "outputs": []
    },
    {
      "cell_type": "code",
      "source": "f(client_dict, [\"salary\",\"name\"])",
      "metadata": {
        "trusted": true
      },
      "execution_count": 41,
      "outputs": [
        {
          "execution_count": 41,
          "output_type": "execute_result",
          "data": {
            "text/plain": "{'salary': 5000, 'name': 'John'}"
          },
          "metadata": {}
        }
      ]
    },
    {
      "cell_type": "markdown",
      "source": "***задание 3.1  \nиспользуя dict comprehenslons***",
      "metadata": {}
    },
    {
      "cell_type": "code",
      "source": "l = [\"city\", \"age\"]\nnew_dict = {i: client_dict[i] for i in l}\nnew_dict",
      "metadata": {
        "trusted": true
      },
      "execution_count": 43,
      "outputs": [
        {
          "execution_count": 43,
          "output_type": "execute_result",
          "data": {
            "text/plain": "{'city': 'moscow', 'age': 25}"
          },
          "metadata": {}
        }
      ]
    },
    {
      "cell_type": "markdown",
      "source": "***задание 4  \nсгенерируйте случайные целые числа от 0 до 100 в количестве 5 шт с помощью модуля random. \nзафиксируйте псевдогенерацию, чтобы сгенерированные значения всегда были одинаковые  \nиспользуя list comprehenslons***",
      "metadata": {}
    },
    {
      "cell_type": "code",
      "source": "import random\nrandom.seed(7)\nl = [random.randint(0, 101) for i in range(5)]\nl",
      "metadata": {
        "trusted": true
      },
      "execution_count": 48,
      "outputs": [
        {
          "execution_count": 48,
          "output_type": "execute_result",
          "data": {
            "text/plain": "[41, 19, 50, 83, 6]"
          },
          "metadata": {}
        }
      ]
    }
  ]
}